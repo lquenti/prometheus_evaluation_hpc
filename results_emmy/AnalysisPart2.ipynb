{
 "cells": [
  {
   "cell_type": "markdown",
   "id": "68ba6355-5150-4157-a40c-d56b3c8d087e",
   "metadata": {},
   "source": [
    "# Benchmark Results on Emmy (Try 2)"
   ]
  },
  {
   "cell_type": "code",
   "execution_count": null,
   "id": "83a37104-6752-45b3-a00c-a3104f45327b",
   "metadata": {},
   "outputs": [],
   "source": [
    "import json\n",
    "import statistics\n",
    "\n",
    "import matplotlib.pyplot as plt\n",
    "import numpy as np\n",
    "import seaborn as sns"
   ]
  }
 ],
 "metadata": {
  "kernelspec": {
   "display_name": "Python 3 (ipykernel)",
   "language": "python",
   "name": "python3"
  },
  "language_info": {
   "codemirror_mode": {
    "name": "ipython",
    "version": 3
   },
   "file_extension": ".py",
   "mimetype": "text/x-python",
   "name": "python",
   "nbconvert_exporter": "python",
   "pygments_lexer": "ipython3",
   "version": "3.10.12"
  }
 },
 "nbformat": 4,
 "nbformat_minor": 5
}
